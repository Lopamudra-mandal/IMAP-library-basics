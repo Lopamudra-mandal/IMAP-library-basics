{
 "cells": [
  {
   "cell_type": "code",
   "execution_count": 1,
   "metadata": {},
   "outputs": [],
   "source": [
    "#Import packages\n",
    "import imaplib\n",
    "import email\n",
    "import getpass\n",
    "import pandas as pd"
   ]
  },
  {
   "cell_type": "code",
   "execution_count": 5,
   "metadata": {},
   "outputs": [
    {
     "name": "stdout",
     "output_type": "stream",
     "text": [
      "Enter user id :xabc0734@gmail.com\n",
      "Enter password : ········\n"
     ]
    }
   ],
   "source": [
    "#Enter username and password\n",
    "username =  input(\"Enter user id :\")\n",
    "password = getpass.getpass(\"Enter password : \")"
   ]
  },
  {
   "cell_type": "code",
   "execution_count": 6,
   "metadata": {},
   "outputs": [],
   "source": [
    "mail = imaplib.IMAP4_SSL('imap.gmail.com',993) #G-mail server"
   ]
  },
  {
   "cell_type": "code",
   "execution_count": 7,
   "metadata": {},
   "outputs": [
    {
     "data": {
      "text/plain": [
       "('OK', [b'xabc0734@gmail.com authenticated (Success)'])"
      ]
     },
     "execution_count": 7,
     "metadata": {},
     "output_type": "execute_result"
    }
   ],
   "source": [
    "#Account login\n",
    "mail.login(username, password) "
   ]
  },
  {
   "cell_type": "code",
   "execution_count": 8,
   "metadata": {},
   "outputs": [
    {
     "data": {
      "text/plain": [
       "('OK', [b'8'])"
      ]
     },
     "execution_count": 8,
     "metadata": {},
     "output_type": "execute_result"
    }
   ],
   "source": [
    "mail.select('inbox')"
   ]
  },
  {
   "cell_type": "code",
   "execution_count": 9,
   "metadata": {},
   "outputs": [
    {
     "data": {
      "text/plain": [
       "('NO',\n",
       " [b'[NONEXISTENT] Unknown Mailbox: New (now in authenticated state) (Failure)'])"
      ]
     },
     "execution_count": 9,
     "metadata": {},
     "output_type": "execute_result"
    }
   ],
   "source": [
    "mail.select(\"New\")"
   ]
  },
  {
   "cell_type": "code",
   "execution_count": 10,
   "metadata": {},
   "outputs": [
    {
     "data": {
      "text/plain": [
       "('OK',\n",
       " [b'(\\\\HasNoChildren) \"/\" \"INBOX\"',\n",
       "  b'(\\\\HasChildren \\\\Noselect) \"/\" \"[Gmail]\"',\n",
       "  b'(\\\\All \\\\HasNoChildren) \"/\" \"[Gmail]/All Mail\"',\n",
       "  b'(\\\\Drafts \\\\HasNoChildren) \"/\" \"[Gmail]/Drafts\"',\n",
       "  b'(\\\\HasNoChildren \\\\Important) \"/\" \"[Gmail]/Important\"',\n",
       "  b'(\\\\HasNoChildren \\\\Sent) \"/\" \"[Gmail]/Sent Mail\"',\n",
       "  b'(\\\\HasNoChildren \\\\Junk) \"/\" \"[Gmail]/Spam\"',\n",
       "  b'(\\\\Flagged \\\\HasNoChildren) \"/\" \"[Gmail]/Starred\"',\n",
       "  b'(\\\\HasNoChildren \\\\Trash) \"/\" \"[Gmail]/Trash\"'])"
      ]
     },
     "execution_count": 10,
     "metadata": {},
     "output_type": "execute_result"
    }
   ],
   "source": [
    "mail.list()"
   ]
  },
  {
   "cell_type": "code",
   "execution_count": 12,
   "metadata": {},
   "outputs": [
    {
     "data": {
      "text/plain": [
       "('OK', [b'8'])"
      ]
     },
     "execution_count": 12,
     "metadata": {},
     "output_type": "execute_result"
    }
   ],
   "source": [
    "mail.select('inbox')"
   ]
  },
  {
   "cell_type": "code",
   "execution_count": 13,
   "metadata": {},
   "outputs": [],
   "source": [
    "result, data = mail.uid(\"search\", None, \"ALL\")"
   ]
  },
  {
   "cell_type": "code",
   "execution_count": 14,
   "metadata": {},
   "outputs": [
    {
     "data": {
      "text/plain": [
       "[b'1 2 3 4 5 6 7 8']"
      ]
     },
     "execution_count": 14,
     "metadata": {},
     "output_type": "execute_result"
    }
   ],
   "source": [
    "data"
   ]
  },
  {
   "cell_type": "code",
   "execution_count": 15,
   "metadata": {},
   "outputs": [],
   "source": [
    "inbox_item_list=data[0].split()\n",
    "most_recent=inbox_item_list[-1]\n",
    "oldest=inbox_item_list[0]"
   ]
  },
  {
   "cell_type": "code",
   "execution_count": 16,
   "metadata": {},
   "outputs": [],
   "source": [
    "result2, email_data= mail.uid(\"fetch\", oldest, \"RFC822\")"
   ]
  },
  {
   "cell_type": "code",
   "execution_count": 17,
   "metadata": {},
   "outputs": [
    {
     "data": {
      "text/plain": [
       "[(b'1 (UID 1 RFC822 {49033}',\n",
       "  b'Delivered-To: xabc0734@gmail.com\\r\\nReceived: by 2002:ac0:8acb:0:0:0:0:0 with SMTP id k11csp1089987ima;\\r\\n        Wed, 4 Dec 2019 10:53:11 -0800 (PST)\\r\\nX-Received: by 2002:a37:6e86:: with SMTP id j128mr4754183qkc.265.1575485591038;\\r\\n        Wed, 04 Dec 2019 10:53:11 -0800 (PST)\\r\\nARC-Seal: i=1; a=rsa-sha256; t=1575485591; cv=none;\\r\\n        d=google.com; s=arc-20160816;\\r\\n        b=aQaxonTA3TFzkn+q67ZeeBimbvDD8NSsJnDxXd2y7O903xG0FyDy1p7k/4Jh8GKPYZ\\r\\n         umcM4oBPlOD1lMQlKithWzpCT0oYX2NI7djBLSQlBp3qXelSGqKZjArDNlSCD1xfN/9H\\r\\n         uZEz/Y7NOp27iu9r3+z92IbiUrnKztDTRbvx/I3LYFJiCXPdnT3UWpki9LHIOpUI+XG/\\r\\n         KAIDyzwnatb72ou5JSrV/GZ/hqyOfu2qBW7ms7Un0dg46ow9bf4PSr6yHROKt8wEihHu\\r\\n         ikpQBEVzWKHibnTrYCJ0B4DlBPF32mA3Ssv8k6oqiBMVRG5McvLmlLpetdYx6OfeTQVD\\r\\n         CO3Q==\\r\\nARC-Message-Signature: i=1; a=rsa-sha256; c=relaxed/relaxed; d=google.com; s=arc-20160816;\\r\\n        h=to:from:subject:message-id:feedback-id:reply-to:date:mime-version\\r\\n         :dkim-signature;\\r\\n        bh=QW1QM9xIXIi1KzXwh0vsshhrIr5h9h518vHSLRfSCtA=;\\r\\n        b=clf3NdQl4XTt5iMQwS2hTDuvgExhH5TCMmim0qMtimCLSAjNco6lpTeQSyKu7qiJIL\\r\\n         2IMO+WNI2EwtyRwoDEvgeaKmYMEziBzVD0hCbnZfyX7WNjKjVkitQYL1qRkJlLvzfIyL\\r\\n         FRYltj+7efj9r2gQkFTY0MffVP0EoYsrMvZD6di7FIgicqqYUG7i5Z/DJfHAumTPUdzH\\r\\n         HdFfSDlBMMtqeoiFTRZG6vzDi23zCuhtwsSox4ygTxQkiBnIFgnIQqOPqTYVqkoXv30H\\r\\n         zNSmjitu3yCYGeFxhGUjKdw4orShi8kr3IHFnYflJcPNZI4QlQGIizei2YcDqKRduj9U\\r\\n         hciA==\\r\\nARC-Authentication-Results: i=1; mx.google.com;\\r\\n       dkim=pass header.i=@google.com header.s=20161025 header.b=GXuKA9N0;\\r\\n       spf=pass (google.com: domain of 3jwdoxrskacyiqqingeqoowpkvavgco-pqtgrnaiqqing.eqo@scoutcamp.bounces.google.com designates 209.85.220.69 as permitted sender) smtp.mailfrom=3jwDoXRsKACYIQQINGEQOOWPKVaVGCO-PQTGRNaIQQING.EQO@scoutcamp.bounces.google.com;\\r\\n       dmarc=pass (p=REJECT sp=REJECT dis=NONE) header.from=google.com\\r\\nReturn-Path: <3jwDoXRsKACYIQQINGEQOOWPKVaVGCO-PQTGRNaIQQING.EQO@scoutcamp.bounces.google.com>\\r\\nReceived: from mail-sor-f69.google.com (mail-sor-f69.google.com. [209.85.220.69])\\r\\n        by mx.google.com with SMTPS id c126sor3024068qkd.67.2019.12.04.10.53.03\\r\\n        for <xabc0734@gmail.com>\\r\\n        (Google Transport Security);\\r\\n        Wed, 04 Dec 2019 10:53:11 -0800 (PST)\\r\\nReceived-SPF: pass (google.com: domain of 3jwdoxrskacyiqqingeqoowpkvavgco-pqtgrnaiqqing.eqo@scoutcamp.bounces.google.com designates 209.85.220.69 as permitted sender) client-ip=209.85.220.69;\\r\\nAuthentication-Results: mx.google.com;\\r\\n       dkim=pass header.i=@google.com header.s=20161025 header.b=GXuKA9N0;\\r\\n       spf=pass (google.com: domain of 3jwdoxrskacyiqqingeqoowpkvavgco-pqtgrnaiqqing.eqo@scoutcamp.bounces.google.com designates 209.85.220.69 as permitted sender) smtp.mailfrom=3jwDoXRsKACYIQQINGEQOOWPKVaVGCO-PQTGRNaIQQING.EQO@scoutcamp.bounces.google.com;\\r\\n       dmarc=pass (p=REJECT sp=REJECT dis=NONE) header.from=google.com\\r\\nDKIM-Signature: v=1; a=rsa-sha256; c=relaxed/relaxed;\\r\\n        d=google.com; s=20161025;\\r\\n        h=mime-version:date:reply-to:feedback-id:message-id:subject:from:to;\\r\\n        bh=QW1QM9xIXIi1KzXwh0vsshhrIr5h9h518vHSLRfSCtA=;\\r\\n        b=GXuKA9N0VbQHL/NZgNrBxdvx55diRo3aBv2OkpHKeos/ZlePjB3Dgag2QOTV9lX2UA\\r\\n         QQvhO0XPoPDJEW6E6Jc9sonDfczATdkOFVT8Eoi5UqsrKyObRvvnVf0s9xxfkSBu7U04\\r\\n         XYRWKyXwTIvCCiSVqol8UiSGxnA1b2iizOdjZ6VB4bgj34bIIvxnazSC7ewAAsLRDjyn\\r\\n         PvPRjKldh+m3Vr80sQXRnLFtZGnxHADOTcRGmvYDj0orRs4I4knn/WmKX0Pf4XcOrP6o\\r\\n         Eg/wYR5bt4Ha+kPmH0e8VJP9YFksDzSvurVyeQ25WYthQTuf2RVXGoD3IA30TDqS9kKT\\r\\n         jCBg==\\r\\nX-Google-DKIM-Signature: v=1; a=rsa-sha256; c=relaxed/relaxed;\\r\\n        d=1e100.net; s=20161025;\\r\\n        h=x-gm-message-state:mime-version:date:reply-to:feedback-id\\r\\n         :message-id:subject:from:to;\\r\\n        bh=QW1QM9xIXIi1KzXwh0vsshhrIr5h9h518vHSLRfSCtA=;\\r\\n        b=Y70sdY3k0YtmQxPS+5c3fXlGrjp0X77vhJtyDg4uFEFm5ekDUTPuB+x3I3QIUNRMK0\\r\\n         nhKPjNkvfceDhN0Vw2gETtSdI9XnVITOx/gdlgXa/vZtG6sSZBubrxL4jA4ERtjlosmg\\r\\n         lNFw9b98hZYUFQR3KilDhhQV0656rlLXiEVwjgrJSHX94VodDYjBTiresAORQ3IxBEfj\\r\\n         sFd3ng4mWqozPlTD4KB7T/XPFrxPqXPkFYcNnaVDZ+zLOibf7ew8SPgQ3iUkx3qFyp7S\\r\\n         cd4aIlDl4ndcgdhb16Rg3sB5GImn1q+ckIE6zV1bgt2dFUa0WtoIc8z8gqf5VOFGj43f\\r\\n         eD9Q==\\r\\nX-Gm-Message-State: APjAAAWY/q7UT5YhKMdj2DzHtea3jUR2efEI786k4nEE7s6q4q2Op5nC\\r\\n\\twcR8KexmmzXVXg8=\\r\\nX-Google-Smtp-Source: APXvYqxWaBDzWqUfnPpuH3X6FTeAn0t/bd/Z9EzhkD0jk0jvk/VB0kPdJQzb09cnsjU7t9bQjnPSd9Q=\\r\\nMIME-Version: 1.0\\r\\nX-Received: by 2002:a37:4c8a:: with SMTP id z132mr4649599qka.39.1575485583316;\\r\\n Wed, 04 Dec 2019 10:53:03 -0800 (PST)\\r\\nDate: Wed, 04 Dec 2019 10:53:03 -0800\\r\\nReply-To: Google Community Team <googlecommunityteam-noreply@google.com>\\r\\nX-Google-Id: 248176\\t\\t\\t\\t\\t\\t\\r\\nFeedback-ID: Len:P-35:C20063660:gamma\\r\\nX-Notifications: GAMMA:<e78223975eabad3ddbce442316fbc4b4c80b95b4-20063660-110518678@google.com>\\r\\nMessage-ID: <e78223975eabad3ddbce442316fbc4b4c80b95b4-20063660-110518678@google.com>\\r\\nSubject: Finish setting up your new Google Account\\r\\nFrom: Google Community Team <googlecommunityteam-noreply@google.com>\\r\\nTo: xabc0734@gmail.com\\r\\nContent-Type: multipart/alternative; boundary=\"0000000000008ad8f50598e552cb\"\\r\\n\\r\\n--0000000000008ad8f50598e552cb\\r\\nContent-Type: text/plain; charset=\"UTF-8\"; format=flowed; delsp=yes\\r\\nContent-Transfer-Encoding: base64\\r\\n\\r\\nR29vZ2xlICANCjxodHRwczovL3d3dy5nb29nbGUuY29tL2FwcHNlcnZlL21rdC9wL0FGbnduS1dF\\r\\nQV9sQ05KekhyZy01QWlUZFpEaGFtQ3ZmSUpJblg1WE1VbHBUQjhVZ2tzLUJIMUU0TjBnYmtBZ2RN\\r\\nbzhwbTZGa0dzZktIeVJmRVp5Rl93ZGR3TGRMdVBjXzh5SGVtQ0FlTzZiSTVDaVgyOTkyY2JSQVot\\r\\neGd2ZHprTm43WHltZEFIUjROYm9HZnZLRGwtR195WEZSN2JGanhpX2htM3dma0pocz4NCg0KSGkg\\r\\nQWJjLA0KDQpXZWxjb21lIHRvIEdvb2dsZS4gWW91ciBuZXcgYWNjb3VudCBjb21lcyB3aXRoIGFj\\r\\nY2VzcyB0byBHb29nbGUgcHJvZHVjdHMsICANCmFwcHMsIGFuZCBzZXJ2aWNlcy4NCg0KSGVyZSBh\\r\\ncmUgYSBmZXcgdGlwcyB0byBnZXQgeW91IHN0YXJ0ZWQuDQoNCkdvb2dsZSBHbw0KDQpHZXQgYSBs\\r\\naWdodGVyLCBmYXN0ZXIgd2F5IHRvIHNlYXJjaA0KDQpTZWFyY2ggaW4gYSBmYXN0LCBmdW4sIGFu\\r\\nZCBlYXN5IHdheS4gVHlwZSBsZXNzIGFuZCBzYXZlIHRpbWUgYnkgdXNpbmcgeW91ciAgDQp2b2lj\\r\\nZS4NCg0KR2V0IEdvb2dsZSBHbyAgDQo8aHR0cHM6Ly93d3cuZ29vZ2xlLmNvbS9hcHBzZXJ2ZS9t\\r\\na3QvcC9BRm53bktXQ2Jqb04xRWpmQW5KMEJkb3IyV2ZOLXN6a1c0TlFtNW9YZi04Q0RFNFFWWnBE\\r\\nV191Q0x0VEF6R01uUG1qcnY0eUFIVHVXTDhyOU9OTXF5S3RLUU1xRUJEZWhQN1d1S3RsMnFvN0FD\\r\\nYXVzTjVIX01YRmdRd3NPejh0SWxWb29PVmtxN1hnY3hRb0Rwam1fb1J3MVdFUF92b2V2ZVliTGEw\\r\\nX1pzQ2JlaXdsTlJJRTRGSHFFajZWaHRnME9ac05iV1paMXJKeWkxSExrQjhSVm1Yc0hmN1p1REgy\\r\\nMFBOdkxMa1JicENPcG5LNTFia0dVR3FkYlRSTl9TOVhOY0wwWXZTcjdWZE5jNDVUd1JkOHVZQUNM\\r\\naHZCbk9Ka29yVWhhenZNZ2ZxTmV3SUxVUUE+DQoNCk1vcmUgZnJvbSBHb29nbGUNCg0KRGlzY292\\r\\nZXIgdGhlIGxhdGVzdCBhcHBzIGZyb20gR29vZ2xlDQoNCk1vcmUgYXBwcyBmcm9tIEdvb2dsZSAg\\r\\nDQo8aHR0cHM6Ly93d3cuZ29vZ2xlLmNvbS9hcHBzZXJ2ZS9ta3QvcC9BRm53bktYcFB0WUhUb2hn\\r\\nLThyVXdDcnh4VkFRcmRaZEJ2ZGI0UDRyMV9pTnRmcUdCMG5jMGt2OUNxTVVDem9Ib290dlpiejBQ\\r\\nYW9iV2ZPamtQTk5UU2ZhZWRKZ01HN1ZvZWlmb0ZjYmhvUWJxU05fenNadUtfX0NOVUtSbmo1dDJD\\r\\nY3JiVlZJZi1fMWUyUXBHUXhtMmlOWWs1eG1RMmsyLVR6eGV1dFY2Z19qMUpoRDBVc1BHVUFvemdz\\r\\naW9scmtqS1VaMmJkcS1oM3ZGeHN3bFB5bWtkOTFMSmhOVmMycXJUclBGNkx3NWNfQkdYdkFKOTBf\\r\\nV3hvbVR5TXZfNjAzTDVFbkhTT1NrVTM4OHZWRW5NWGp5cDVuSENDMGc5RlpwZ20zWEpBbWgxVkl3\\r\\nU0haV2hreGdCZFNqSWFwckx4dDZBRjcwcHItZVcza3ZYd3FFWlVzX2poUGpvUVdKWVZoQjRZNW54\\r\\nVUJNZGhva2FOWFBjd1F1UmM3TmtYMHVVVUpWcXJvVWNySm1RSTNDN1VrOXI2dWVwc0tGQmdaZlRT\\r\\nTXhoSEx5Z3Z2ckNSVUlnOU9MOHAzZVRaS1FzZXhDMUxmTGFtd211cTMxWHY4aXBLZ1FfMmNmUE14\\r\\nczVPN2FtYzVRTTZ3cHg0UjZJLVdpajNPcWo0TjlLN0phSUVMc2JPRjNfNXp4OEZybHNSd3JyUFdQ\\r\\nTERiY0JTSUo3aHplYXpFbXpSWVNQaVg3aEJ3Wld0XzdsZkI4Um9HS3huYlFXVkdfWUJFWTREaDFI\\r\\nckdHQTRjeV93bUl6RVlVVVF2SUo3NXBFaUJyLVhpYWgxaTBpMUNseHBDUHBZaV9EM2VrcktEWDc2\\r\\nMkEwem1JUHlwMGgtUjJnV0Z6NzVtUURObFhsYzdKcnRhSmxRYkxPQmZ0Zk9peEdkZHVidUtIOTcy\\r\\ndUlBSkg1WUJBTWVVZkEzNGZtTWN4N2VXcGxqem56UEZUVkNkT2lwQWMza0FhRmxKYW83bGJVd1Z0\\r\\ncHlDTHZFUGZsd1VYaEswa011OF9HckF3WlJ0ZHBqUXItQXVzbTEyV0YwVGVPNjc+DQoNClNlY3Vy\\r\\naXR5DQoNCkNvbnRyb2wgeW91ciBhY2NvdW50DQoNCkNob29zZSB3aGF0J3MgcmlnaHQgZm9yIHlv\\r\\ndS4gUmV2aWV3IGFuZCBhZGp1c3QgeW91ciBwcml2YWN5IGFuZCBzZWN1cml0eSAgDQpzZXR0aW5n\\r\\ncyBhbnkgdGltZS4NCg0KTXkgQWNjb3VudCAgDQo8aHR0cHM6Ly93d3cuZ29vZ2xlLmNvbS9hcHBz\\r\\nZXJ2ZS9ta3QvcC9BRm53bktXcmZUS3huT3lrWTJnaWxIbGJjNFNUNE9YU0Noa1FnQXVmVW53RFJK\\r\\nNlNHWF9zMkpXcm54czJwT0xZeGI4cUt0bVZtQUl3eDFfa0hLY040R3BsT09tZUV3YkRFX1BMeVhS\\r\\nV29xRnhYcjR2OEFFejRhei1ZNzVXOXhZMlJBSklKVnJReG5VYUlXV2JCUlBBaFNpLUhJbElfTVlZ\\r\\nTmxvS1lMRnBMTi1XdW9XazJneVMtQ0Y3SnhiSWNqeWtPZVF1ZmJBUFBzMk9WQWdpbnlONz4NCg0K\\r\\nRmluZCBNeSBEZXZpY2UNCg0KRmluZCB5b3VyIHBob25lDQoNClBpbnBvaW50IHlvdXIgcGhvbmUn\\r\\ncyAgDQpsb2NhdGlvbjxodHRwczovL3d3dy5nb29nbGUuY29tL2FwcHNlcnZlL21rdC9wL0FGbndu\\r\\nS1haMXFPWEV0cW9YMmtSQnk2T0FLV1NNMm9sS1hPNkZDR2hMX2RFdHJSNlRPR0VsVzdXSUtXMDF2\\r\\naGNVbEl2LUQtNDNZeFFReEZlNktKdXZtU2dCZ0QzRzAtX2QzUFBncVY2djNMVUYtMFFYaC1WSnFv\\r\\nLUJ6VmZYUHJFRDJ0akEyNi1hQnBQUkxaajgxS25udVFFQk9UQjM4dW5pOGs3c3VmaDNGZFpBRWNy\\r\\nX1JCZTIwZEZLZ1NmLVVxWkkyT1M0MElMWFVNPiAgDQphbmQgc2VjdXJlIGl0IHdpdGggRmluZCBN\\r\\neSBEZXZpY2UuDQoNCkZpbmQgQW5zd2Vycw0KDQpGaW5kIGFuc3dlcnMNCg0KVmlzaXQgdGhlIEhl\\r\\nbHAgIA0KQ2VudGVyPGh0dHBzOi8vd3d3Lmdvb2dsZS5jb20vYXBwc2VydmUvbWt0L3AvQUZud25L\\r\\nWFYxVWRNZUo3c1dCYUltTi1ZZ3pXYTFMNHNPdzAweVQyNWxvakhnOUprVzMyTUNaYXBtREU5SU5h\\r\\nOHgybXVEYTNWUU9lQTk2NG5DU2EyeUVlcWlMSHppSG1UUUd1dmlNWkhaZTFrQUk4NHA4dmt6Z0dz\\r\\nZl81Qm53clZDTjQ4ZHhCYWRvNUV4dW10QmRlUFU4T0VTVDhQNzU0eXVXT1pDVFNkRHZOd0pCcUgx\\r\\nb3g3UDNoWGRvRUxhV1ZRbWVOTkZUSVB6MWM+ICANCnRvIGxlYXJuIGFsbCBhYm91dCB5b3VyIG5l\\r\\ndyBHb29nbGUgQWNjb3VudC4NCg0KV2UgaG9wZSB5b3UgZW5qb3kgeW91ciBuZXcgQW5kcm9pZCBk\\r\\nZXZpY2UsDQpHb29nbGUgQ29tbXVuaXR5IFRlYW0NCg0KR29vZ2xlIExvZ28NCg0KUmVwbGllcyB0\\r\\nbyB0aGlzIGVtYWlsIGFyZW4ndCBtb25pdG9yZWQuIElmIHlvdSBoYXZlIGEgcXVlc3Rpb24gYWJv\\r\\ndXQgeW91ciAgDQpuZXcgYWNjb3VudCwgdGhlIEhlbHAgQ2VudGVyIGxpa2VseSBoYXMgdGhlIGFu\\r\\nc3dlciB5b3UncmUgbG9va2luZyBmb3IuDQoNCkdvb2dsZSBBc2lhIFBhY2lmaWMgUHRlLiBMdGQu\\r\\nLCA3MCBQYXNpciBQYW5qYW5nIFJvYWQsICMwMy03MSwgTWFwbGV0cmVlICANCkJ1c2luZXNzIENp\\r\\ndHksIFNpbmdhcG9yZSAxMTczNzENCg0KVGhpcyBlbWFpbCB3YXMgc2VudCB0byB5b3UgYmVjYXVz\\r\\nZSB5b3UgY3JlYXRlZCBhIEdvb2dsZSBhY2NvdW50Lg0K\\r\\n--0000000000008ad8f50598e552cb\\r\\nContent-Type: text/html; charset=\"UTF-8\"\\r\\nContent-Transfer-Encoding: quoted-printable\\r\\n\\r\\n<!doctype html public \"- / /w3c / /dtd xhtml 1.0 transitional / /en\" \"http:=\\r\\n / /www.w3.org /tr /xhtml1 /dtd /xhtml1-transitional.dtd\">\\r\\n  <html xmlns=3Dhttp://www.w3.org/1999/xhtml xmlns:v=3Durn:schemas-microsof=\\r\\nt-com:vml xmlns:o=3Durn:schemas-microsoft-com:office:office>\\r\\n    <head>\\r\\n      <meta name=3Dformat-detection content=3Daddress=3Dno>\\r\\n      <meta name=3Dformat-detection content=3Dtelephone=3Dno>\\r\\n      <meta name=3Dx-apple-disable-message-reformatting>\\r\\n      <meta http-equiv=3DContent-Type content=3D\"text/html; charset=3Dutf-8=\\r\\n\">\\r\\n      <meta name=3Dviewport content=3D\"width=3Ddevice-width, initial-scale=\\r\\n=3D1, maximum-scale=3D1\">\\r\\n      <link href=3D//fonts.googleapis.com/css?family=3DGoogle+Sans rel=3Dst=\\r\\nylesheet type=3Dtext/css>\\r\\n      <style type=3Dtext/css>\\r\\n      body{text-decoration:none;}\\r\\n      </style>\\r\\n      <style type=3Dtext/css>\\r\\n           @media only screen and (max-width: 767px){\\r\\n             .body_wrapper{min-width:540px !important;}\\r\\n             .body_size{width: 320px !important;min-width:320px !important;=\\r\\n}\\r\\n             .subheadline{font-size:22px!important;line-height: 35px !impor=\\r\\ntant;}\\r\\n             .device_txt{font-size:26px!important;}\\r\\n             .greeting_name{font-size:32px!important;}\\r\\n             .google_mobile{width:135px !important; height:43px !important;=\\r\\n}\\r\\n             .bulb_mobile{width:22px !important; height:31px !important;pad=\\r\\nding-top:20px !important;}\\r\\n             .module_mobile{width:110px !important; height:110px !important=\\r\\n;}\\r\\n             .shield_mobile{width:24px !important; height:31px !important;}\\r\\n             .fmd_mobile{width:30px !important; height:24px !important;}\\r\\n             .fa_mobile{width:30px !important; height:30px !important;}\\r\\n           =20\\r\\n             .btn_mod2_mobile1{padding:9px 24px 11px 24px !important; borde=\\r\\nr-radius: 4px !important;}\\r\\n             .btn_mod2_mobile2{padding:9px 24px 11px 24px !important; borde=\\r\\nr-radius: 4px !important;}\\r\\n             .btn_mod3_mobile{padding:9px 24px 11px 24px !important; border=\\r\\n-radius: 4px !important;}\\r\\n             .btn_mod4_mobile{padding:9px 24px 11px 24px !important; border=\\r\\n-radius: 4px !important;}\\r\\n\\r\\n             .space1{height:19px !important;}\\r\\n             .space2{padding:3px 35px 0 35px !important;}\\r\\n             .space3{padding-top: 22px !important;}\\r\\n             .space4{padding: 6px 0 0 0 !important;}\\r\\n             .space5{padding-top: 17px !important;}\\r\\n             .space6{padding:0 35px 0 35px !important;}\\r\\n             .space7{padding-right: 0px !important;}\\r\\n           }\\r\\n    =20\\r\\n           @media screen and (min-resolution: 288dpi) {\\r\\n             .device_txt{font-size:26px!important;}\\r\\n           }\\r\\n       </style>\\r\\n    <!--[if gte mso 9]>\\r\\n<xml>\\r\\n    <o:OfficeDocumentSettings>\\r\\n    <o:AllowPNG/>\\r\\n    <o:PixelsPerInch>96</o:PixelsPerInch>\\r\\n    </o:OfficeDocumentSettings>\\r\\n</xml>\\r\\n<![endif]-->\\r\\n    </head>\\r\\n       =20\\r\\n      =20\\r\\n     =20\\r\\n   =20\\r\\n   =20\\r\\n<body bgcolor=3D#ffffff class=3Dbody_wrapper>\\r\\n      <style>\\r\\n          @media screen{@font-face{font-family:\\'Open Sans\\';font-style:norma=\\r\\nl;font-weight:normal;src:local(\\'Open Sans Light\\'),local(\\'OpenSans-Light\\'),u=\\r\\nrl(http://fonts.gstatic.com/s/opensans/v9/DXI1ORHCpsQm3Vp6mXoaTRampu5_7CjHW=\\r\\n5spxoeN3Vs.woff2) format(\\'woff2\\'),url(http://fonts.gstatic.com/s/opensans/v=\\r\\n9/DXI1ORHCpsQm3Vp6mXoaTaRDOzjiPcYnFooOUGCOsRk.woff) format(\\'woff\\')}}\\r\\n          /*body{padding:0;margin:0}@media only screen and (max-width:520px=\\r\\n){-webkit-text-size-adjust:100%}*/\\r\\n          body{text-decoration:none;}\\r\\n      </style>\\r\\n  <div style=3D\"font-size: 0px; line-height:0px; color: #ffffff; display: n=\\r\\none;\">=C2=A0 =C2=A0 =C2=A0 =C2=A0 =C2=A0 =C2=A0 =C2=A0 =C2=A0 =C2=A0 =C2=A0=\\r\\n =C2=A0 =C2=A0 =C2=A0 =C2=A0 =C2=A0 =C2=A0 =C2=A0 =C2=A0 =C2=A0 =C2=A0 =C2=\\r\\n=A0 =C2=A0 =C2=A0 =C2=A0 =C2=A0 =C2=A0 =C2=A0 =C2=A0 =C2=A0 =C2=A0 =C2=A0 =\\r\\n=C2=A0 =C2=A0 =C2=A0 =C2=A0 =C2=A0 =C2=A0 =C2=A0 =C2=A0 =C2=A0 =C2=A0 =C2=\\r\\n=A0 =C2=A0 =C2=A0 =C2=A0 =C2=A0=C2=A0 =C2=A0 =C2=A0 =C2=A0 =C2=A0 =C2=A0 =\\r\\n=C2=A0 =C2=A0 =C2=A0 =C2=A0 =C2=A0 =C2=A0 =C2=A0 =C2=A0 =C2=A0 =C2=A0 =C2=\\r\\n=A0 =C2=A0 =C2=A0 =C2=A0 =C2=A0 =C2=A0 =C2=A0=C2=A0 =C2=A0 =C2=A0 =C2=A0 =\\r\\n=C2=A0 =C2=A0 =C2=A0 =C2=A0 =C2=A0 =C2=A0 =C2=A0 =C2=A0 =C2=A0 =C2=A0 =C2=\\r\\n=A0 =C2=A0 =C2=A0 =C2=A0 =C2=A0 =C2=A0 =C2=A0 =C2=A0 =C2=A0=C2=A0 =C2=A0 =\\r\\n=C2=A0 =C2=A0 =C2=A0 =C2=A0 =C2=A0 =C2=A0 =C2=A0 =C2=A0 =C2=A0 =C2=A0 =C2=\\r\\n=A0 =C2=A0 =C2=A0 =C2=A0 =C2=A0 =C2=A0 =C2=A0 =C2=A0 =C2=A0 =C2=A0 =C2=A0=\\r\\n=C2=A0 =C2=A0=C2=A0 =C2=A0 =C2=A0 =C2=A0 =C2=A0 =C2=A0 =C2=A0 =C2=A0 =C2=A0=\\r\\n =C2=A0 =C2=A0 =C2=A0 =C2=A0 =C2=A0 =C2=A0 =C2=A0 =C2=A0 =C2=A0 =C2=A0 =C2=\\r\\n=A0 =C2=A0 =C2=A0 =C2=A0 =C2=A0 =C2=A0 =C2=A0 =C2=A0 =C2=A0 =C2=A0 =C2=A0 =\\r\\n=C2=A0 =C2=A0 =C2=A0 =C2=A0 =C2=A0 =C2=A0 =C2=A0 =C2=A0 =C2=A0 =C2=A0 =C2=\\r\\n=A0 =C2=A0 =C2=A0 =C2=A0 =C2=A0 =C2=A0=C2=A0 =C2=A0 =C2=A0 =C2=A0 =C2=A0 =\\r\\n=C2=A0 =C2=A0 =C2=A0 =C2=A0 =C2=A0 =C2=A0 =C2=A0 =C2=A0 =C2=A0 =C2=A0 =C2=\\r\\n=A0 =C2=A0 =C2=A0 =C2=A0 =C2=A0 =C2=A0 =C2=A0 =C2=A0=C2=A0 =C2=A0 =C2=A0 =\\r\\n=C2=A0 =C2=A0 =C2=A0 =C2=A0 =C2=A0 =C2=A0 =C2=A0 =C2=A0 =C2=A0 =C2=A0 =C2=\\r\\n=A0 =C2=A0 =C2=A0 =C2=A0 =C2=A0 =C2=A0 =C2=A0 =C2=A0 =C2=A0 =C2=A0=C2=A0 =\\r\\n=C2=A0 =C2=A0 =C2=A0 =C2=A0 =C2=A0 =C2=A0 =C2=A0 =C2=A0 =C2=A0 =C2=A0 =C2=\\r\\n=A0 =C2=A0 =C2=A0 =C2=A0 =C2=A0 =C2=A0 =C2=A0 =C2=A0 =C2=A0 =C2=A0 =C2=A0 =\\r\\n=C2=A0=C2=A0 =C2=A0 </div>\\r\\n =20\\r\\n      <center>\\r\\n        <table class=3Dbody_size border=3D0 cellspacing=3D0 cellpadding=3D0=\\r\\n align=3Dcenter width=3D520 bgcolor=3D#ffffff style=3D\"background: #ffffff;=\\r\\n min-width: 520px; -webkit-font-smoothing: antialiased; -webkit-text-size-a=\\r\\ndjust: none; -ms-text-size-adjust: 100%;\">\\r\\n          <tr><td align=3Dcenter style=3D\"padding-top: 20px;\"><a href=3Dhtt=\\r\\nps://www.google.com/appserve/mkt/p/AFnwnKVuOuzsweb5g1gb_K1CMNBrxM5hDeJw_jCX=\\r\\n3MwnCid9OWga5yyztxF53HLe63iqP5BU__foW9LGip4jT5FDrI9pqfJGyCGpkH-8jNkoJekvF4U=\\r\\nxZIr5XdLgcgCFV1ztvtxgC0l9_iLgKxrkNH3ci07T9uHvtFgVYYoBG_iFCg target=3D_blank=\\r\\n><img class=3Dgoogle_mobile width=3D82 height=3D26 border=3D0 src=3Dhttps:/=\\r\\n/services.google.com/fh/files/emails/google_logo_orig.png alt=3DGoogle styl=\\r\\ne=3D\"width: 82px; height:26px; text-align: center; border: none;\"></a></td>=\\r\\n</tr>\\r\\n          <tr><td class=3Dspace1 height=3D15></td></tr>\\r\\n          <tr>\\r\\n            <td width=3D480 style=3D\"-webkit-font-smoothing: antialiased; -=\\r\\nwebkit-text-size-adjust: none; -ms-text-size-adjust: 100%; border: 2px soli=\\r\\nd #E8EAED; border-radius: 16px;\">\\r\\n              <table border=3D0 cellspacing=3D0 cellpadding=3D0 width=3D100=\\r\\n%>\\r\\n                <tr>\\r\\n                  <td align=3Dcenter>  <a href=3D# style=3D\"pointer-events:=\\r\\n none; cursor: default\" ;><img class=3Dtop_img width=3D100% height=3D109 bo=\\r\\nrder=3D0 src=3Dhttps://services.google.com/fh/files/emails/topdesign.png st=\\r\\nyle=3D\"width: 100%; height: 109px; text-align: center; border: none;\"></a>\\r\\n</td>\\r\\n                </tr>\\r\\n                <tr>\\r\\n                  <td>\\r\\n  \\t\\t\\t\\t    <table border=3D0 cellspacing=3D0 cellpadding=3D0 align=3Dcenter =\\r\\nwidth=3D100%>\\r\\n                      <tr>\\r\\n                        <!--[if mso]>\\r\\n                        <td align=3D\"center\" class=3D\"greeting_name space6\"=\\r\\n style=3D\\'color:#202124; font-family:Google Sans, \"Roboto\", Arial; font-siz=\\r\\ne:22px; font-weight:normal; line-height:45px; margin:0; padding:0 80px 20px=\\r\\n 80px; text-align:center;word-break:normal;direction:ltr;\\' dir=3D\"ltr\">Hi A=\\r\\nbc,</td>\\r\\n                        <![endif]-->\\r\\n                        <!--[if !mso]><!-->\\r\\n                        <td align=3Dcenter class=3D\"greeting_name space6\" s=\\r\\ntyle=3D\"color:#202124; font-family:Google Sans, &quot;Roboto&quot;, Arial; =\\r\\nfont-size:22px; font-weight:normal; line-height:45px; margin:0; padding:0 8=\\r\\n0px 0 80px; text-align:center; word-break:normal;direction:ltr;\" dir=3Dltr>=\\r\\nHi Abc,</td>\\r\\n                        <!--<![endif]-->\\r\\n                      </tr>\\r\\n                      <!--[if !mso]><!-->\\r\\n                      <tr>\\r\\n                        <td height=3D15 style=3D\"line-height: 4px; font-siz=\\r\\ne: 4px;\"></td>\\r\\n                      </tr>\\r\\n                      <!--<![endif]-->\\r\\n                      <tr>\\r\\n                        <td class=3D\"subheadline space2\" align=3Dcenter sty=\\r\\nle=3D\"color:#3C4043; font-family:&quot;Roboto&quot;, OpenSans, &quot;Open S=\\r\\nans&quot;, Arial, sans-serif; font-size:16px; font-weight:normal; line-heig=\\r\\nht:24px; margin:0; padding:0 70px 0 70px; text-align:center; word-break:nor=\\r\\nmal;direction:ltr;\" dir=3Dltr> Welcome to Google. Your new account comes wi=\\r\\nth access to Google products, apps, and services.</td>\\r\\n                      </tr>\\r\\n                      <tr>\\r\\n                        <td class=3D\"subheadline space6\" align=3Dcenter sty=\\r\\nle=3D\"color:#3C4043; font-family:&quot;Roboto&quot;, OpenSans, &quot;Open S=\\r\\nans&quot;, Arial, sans-serif; font-size:16px; font-weight:normal; line-heig=\\r\\nht:24px; margin:0; padding:0 80px 0 80px; text-align:center; word-break:nor=\\r\\nmal;direction:ltr;\" dir=3Dltr> Here are a few tips to get you started.</td>\\r\\n                      </tr>\\r\\n                      <tr><td height=3D45></td></tr>\\r\\n                    </table>\\r\\n\\t\\t\\t\\t  </td>\\r\\n                </tr>\\r\\n               =20\\r\\n                <tr>\\r\\n                  <td>\\r\\n                    <table border=3D0 cellspacing=3D0 cellpadding=3D0 align=\\r\\n=3Dcenter width=3D100%>\\r\\n                      <tr><td height=3D45></td></tr>\\r\\n                      <tr>\\r\\n                          <td class=3Dspace3 align=3Dcenter>    <img class=\\r\\n=3Dmodule_mobile width=3D64 height=3D64 border=3D0 src=3Dhttps://services.g=\\r\\noogle.com/fh/files/emails/g_logo1.png alt=3D\"Google Go\" style=3D\"width: 64p=\\r\\nx; height:64px; text-align: center; border: none; font-size:9px;\">\\r\\n</td>\\r\\n                      </tr>\\r\\n                      <tr><td height=3D17></td></tr>\\r\\n                      <tr>\\r\\n\\r\\n                            <!--[if mso]>\\r\\n                            <td align=3D\"center\" class=3D\"device_txt space6=\\r\\n\" style=3D\\'color:#202124; font-family:Google Sans, \"Roboto\", Arial; font-si=\\r\\nze:18px; font-weight:normal; line-height:33px; margin:0; padding:0 80px 20p=\\r\\nx 80px; text-align:center; word-break:normal;direction:ltr;\\' dir=3D\"ltr\">Ge=\\r\\nt a lighter, faster way to search</td>\\r\\n                            <![endif]-->\\r\\n                            <!--[if !mso]><!-->\\r\\n                            <td align=3Dcenter class=3D\"device_txt space6\" =\\r\\nstyle=3D\"color:#202124; font-family:Google Sans, &quot;Roboto&quot;, Arial;=\\r\\n font-size:18px; font-weight:normal; line-height:33px; margin:0; padding:0 =\\r\\n80px 0 80px; text-align:center; word-break:normal;direction:ltr;\" dir=3Dltr=\\r\\n>Get a lighter, faster way to search</td>\\r\\n                            <!--<![endif]-->\\r\\n                  =20\\r\\n                      </tr>\\r\\n                      <!--[if !mso]><!-->\\r\\n                      <tr>\\r\\n                        <td height=3D15 style=3D\"line-height: 4px; font-siz=\\r\\ne: 4px;\"></td>\\r\\n                      </tr>\\r\\n                      <!--<![endif]-->\\r\\n                      <tr>\\r\\n                          <td class=3D\"subheadline space6\" align=3Dcenter s=\\r\\ntyle=3D\"color:#5F6368; font-family:&quot;Roboto&quot;, OpenSans, &quot;Open=\\r\\n Sans&quot;, Arial, sans-serif; font-size:16px; font-weight:normal; line-he=\\r\\night:24px; margin:0; padding:0 80px 0 80px; text-align:center; word-break:n=\\r\\normal;direction:ltr;\" dir=3Dltr>Search in a fast, fun, and easy way. Type l=\\r\\ness and save time by using your voice.</td>\\r\\n                         =20\\r\\n                      </tr>\\r\\n                      <tr><td height=3D30></td></tr>\\r\\n                      <tr>\\r\\n                        <td align=3Dcenter valign=3Dtop>\\r\\n                            <table border=3D0 cellspacing=3D0 cellpadding=\\r\\n=3D0 width=3D100%>\\r\\n                                <tr>\\r\\n                                    <td class=3Dspace4 style=3D\"text-align:=\\r\\n center; padding: 0;\">\\r\\n                                     =20\\r\\n                                        <div>\\r\\n                                            <!--[if mso]>\\r\\n                                              <v:roundrect xmlns:v=3D\"urn:s=\\r\\nchemas-microsoft-com:vml\" xmlns:w=3D\"urn:schemas-microsoft-com:office:word\"=\\r\\n href=3D\"https://www.google.com/appserve/mkt/p/AFnwnKUGYMypeo8SaNIZIHBl836U=\\r\\nj1ZrIN6AgpOCEco2sWwhGmb1UW97pTGa3TthkmjE_sPSbsvZYLBSCTzuIkNnBPdaUhGNxtU4ull=\\r\\nv6rtN08MahY_3zQgHPWoDI1LwAJQqjN0D5PmpDm49fb3GPn2rchGMSVq1ku5NrtV_AZxA7Jerh7=\\r\\niOejkmI1MYcVQelOdqzmsK-j9Y4JrIGtqRVJVAjeGdWuS9d5fF4VYLsuJQZpQG9GiAjKrpP1EtV=\\r\\n-EkGo3Cn6987FjL7fT5uKVJ2ea-CJehNGMwe2WfJVIKWGmDfelLHCIi\" style=3D\"height:42=\\r\\npx; v-text-anchor:middle; width:161;\" arcsize=3D\"10%\" strokecolor=3D\"#1A73E=\\r\\n8\" fillcolor=3D\"#1A73E8;\">\\r\\n                                              <w:anchorlock/>\\r\\n                                              <center style=3D\"color:#fffff=\\r\\nf;font-family:Google Sans, Roboto, Arial; font-size:16px; font-weight:norma=\\r\\nl; word-break:normal;direction:ltr;\" dir=3D\"ltr\">Get Google Go</center>\\r\\n                                              </v:roundrect>\\r\\n                                            <![endif]-->\\r\\n                                            <a href=3Dhttps://www.google.co=\\r\\nm/appserve/mkt/p/AFnwnKUGYMypeo8SaNIZIHBl836Uj1ZrIN6AgpOCEco2sWwhGmb1UW97pT=\\r\\nGa3TthkmjE_sPSbsvZYLBSCTzuIkNnBPdaUhGNxtU4ullv6rtN08MahY_3zQgHPWoDI1LwAJQqj=\\r\\nN0D5PmpDm49fb3GPn2rchGMSVq1ku5NrtV_AZxA7Jerh7iOejkmI1MYcVQelOdqzmsK-j9Y4JrI=\\r\\nGtqRVJVAjeGdWuS9d5fF4VYLsuJQZpQG9GiAjKrpP1EtV-EkGo3Cn6987FjL7fT5uKVJ2ea-CJe=\\r\\nhNGMwe2WfJVIKWGmDfelLHCIi class=3D\"subheadline btn_mod2_mobile2\" target=3D_=\\r\\nblank style=3D\"background-color:#1A73E8;; border:1px solid #1A73E8; border-=\\r\\nradius:4px; color:#ffffff; display:inline-block; font-family:Google Sans, R=\\r\\noboto, Arial; font-size:16px; line-height:25px; text-decoration:none; paddi=\\r\\nng:7px 24px 7px 24px; -webkit-text-size-adjust:none; mso-hide:all; font-wei=\\r\\nght:500; text-align: center; word-break:normal;direction:ltr;\" dir=3Dltr>Ge=\\r\\nt Google Go</a>\\r\\n                                        </div>\\r\\n                                       =20\\r\\n                                    </td>\\r\\n                                </tr>\\r\\n                            </table>\\r\\n                        </td>\\r\\n                      </tr>\\r\\n                     =20\\r\\n                      <tr><td height=3D50></td></tr>\\r\\n                      <tr><td border=3D0><hr width=3D516 bgcolor=3D#F8F9FA =\\r\\nborder=3D0 style=3D\"margin:0; border-collapse: collapse; background-color: =\\r\\n#F8F9FA;color: #F8F9FA; height: 8px; border: none; width:516px;\"></td></tr>\\r\\n                    </table>\\r\\n                  </td>\\r\\n                </tr>\\r\\n                 =20\\r\\n\\r\\n                 =20\\r\\n                <tr>\\r\\n                  <td>\\r\\n                    <table border=3D0 cellspacing=3D0 cellpadding=3D0 align=\\r\\n=3Dcenter width=3D100%>\\r\\n             <tr><td height=3D40></td></tr>\\r\\n                      <tr>\\r\\n                  <td align=3Dcenter>    <img class=3Dmodule_mobile width=\\r\\n=3D64 height=3D64 border=3D0 src=3Dhttps://services.google.com/fh/files/ema=\\r\\nils/more_logo.png alt=3D\"\" style=3D\"width: 64px; height:64px; text-align: c=\\r\\nenter; border: none;\">\\r\\n\\r\\n\\t\\t\\t\\t</td>\\r\\n                </tr>\\r\\n\\r\\n                      <tr><td height=3D15></td></tr>\\r\\n                      <tr>\\r\\n\\r\\n                        <!--[if mso]>\\r\\n                        <td align=3D\"center\" class=3D\"device_txt space6\" st=\\r\\nyle=3D\\'color:#202124; font-family:Google Sans, \"Roboto\", Arial; font-size:1=\\r\\n8px; font-weight:normal; line-height:33px; margin:0; padding:0 80px 20px 80=\\r\\npx; text-align:center; word-break:normal;direction:ltr;\\' dir=3D\"ltr\">More f=\\r\\nrom Google</td>\\r\\n                        <![endif]-->\\r\\n                        <!--[if !mso]><!-->\\r\\n                        <td align=3Dcenter class=3D\"device_txt space6\" styl=\\r\\ne=3D\"color:#202124; font-family:Google Sans, &quot;Roboto&quot;, Arial; fon=\\r\\nt-size:18px; font-weight:normal; line-height:33px; margin:0; padding:0 80px=\\r\\n 0 80px; text-align:center; word-break:normal;direction:ltr;\" dir=3Dltr>Mor=\\r\\ne from Google</td>\\r\\n                        <!--<![endif]-->\\r\\n                      </tr>\\r\\n                      <!--[if !mso]><!-->\\r\\n                      <tr>\\r\\n                        <td height=3D15 style=3D\"line-height: 4px; font-siz=\\r\\ne: 4px;\"></td>\\r\\n                      </tr>\\r\\n                      <!--<![endif]-->\\r\\n                      <tr>\\r\\n                          <td class=3D\"subheadline space6\" align=3Dcenter s=\\r\\ntyle=3D\"color:#5F6368; font-family:&quot;Roboto&quot;, OpenSans, &quot;Open=\\r\\n Sans&quot;, Arial, sans-serif; font-size:16px; font-weight:normal; line-he=\\r\\night:24px; margin:0; padding:0 80px 0 80px; text-align:center; word-break:n=\\r\\normal;direction:ltr;\" dir=3Dltr>Discover the latest apps from Google</td>\\r\\n                      </tr>\\r\\n                      <tr><td height=3D30></td></tr>\\r\\n                      <tr>\\r\\n                          <td align=3Dcenter valign=3Dtop>\\r\\n                              <table>\\r\\n                                  <tr>\\r\\n                                      <td style=3D\"text-align: center; padd=\\r\\ning: 0;\">\\r\\n                                          <div>\\r\\n                                            <!--[if mso]>\\r\\n                                              <v:roundrect xmlns:v=3D\"urn:s=\\r\\nchemas-microsoft-com:vml\" xmlns:w=3D\"urn:schemas-microsoft-com:office:word\"=\\r\\n href=3D\"https://www.google.com/appserve/mkt/p/AFnwnKXVMg-eTNxpUFYLQfo2oyyo=\\r\\nmCp_5GanmQ0dZUFziZkIgZGXl3V94E2fF3JAQmNX7BU52emQ59RcWQ2-sJygzAbcMBNTjaMzg7V=\\r\\n5e7snvPldv0cr7C1bi1CcAydR0bM2c3QiUhjmqKLn4TZH10wEB4qcApuKPg0ZMFzV9V-Qf0CQZO=\\r\\nFQN69tvA9YXhb6-n5uXKD6lJhu9fMD3zUYTTf2KKHtXAA82Y4PRutVm99wDddLQYDkAhjNCMP9w=\\r\\nPNx7gU6gUfeU7lcVez5HaoAzTzXbAw8nMIYcVi5jisvvR9Z-pM9Ot29lFm8Qkcv3Lji3ULoPTaR=\\r\\nUl72W5Eb5am5_-0i2PD7JTa0mk59N66dekOlvr1MnI4w6TKBotZiy9MMInhYEGHlB1t1GqHiaBB=\\r\\n__J1_mR4bA7GffZMG5JFnH2Y-qltcREgiQQYwQwXCsWXUSZiQJ0U1ns_pqzjOL5C9nYES1NHaer=\\r\\ntOYjalmVfVNJHHFbHwHh1BUCX6Mlr1nqUtBiSCxKRIBG0KAyHkPsiqKb66IvnMLpD3r-s2-Pzxp=\\r\\neOEoG6353nuQCOqV6g9hVWbSIVqL0Hu0pVWNEMzRkx6n2YC0nviKZfJ-YfecJpNKe3jrAY8z9it=\\r\\nZKXrsIPqdHmARao4AImgIVKfLG3n0w7pUQEgMur6UmMZ7QVA37EzcYbz55ve1kqNR5Rso5t0cES=\\r\\nB4yBES_HpXaGFTg7sa42p5dW8DH_s40_M3bHDWwxC86zukjDkmfLqQtQDQHfQU0umIEoCDk0PQm=\\r\\nLiBGyqm510HwiHv_GyQA-QVrNCEes\" style=3D\"height:38; v-text-anchor:middle; wi=\\r\\ndth:222;\" arcsize=3D\"10%\" strokecolor=3D\"#1A73E8\" fillcolor=3D\"#1A73E8;\">\\r\\n                                              <w:anchorlock/>\\r\\n                                              <center style=3D\"color:#fffff=\\r\\nf;font-family:Google Sans, Roboto, Arial; font-size:16px; font-weight:norma=\\r\\nl; word-break:normal;direction:ltr;\" dir=3D\"ltr\">More apps from Google</cen=\\r\\nter>\\r\\n                                              </v:roundrect>\\r\\n                                            <![endif]-->\\r\\n                                            <a href=3Dhttps://www.google.co=\\r\\nm/appserve/mkt/p/AFnwnKXVMg-eTNxpUFYLQfo2oyyomCp_5GanmQ0dZUFziZkIgZGXl3V94E=\\r\\n2fF3JAQmNX7BU52emQ59RcWQ2-sJygzAbcMBNTjaMzg7V5e7snvPldv0cr7C1bi1CcAydR0bM2c=\\r\\n3QiUhjmqKLn4TZH10wEB4qcApuKPg0ZMFzV9V-Qf0CQZOFQN69tvA9YXhb6-n5uXKD6lJhu9fMD=\\r\\n3zUYTTf2KKHtXAA82Y4PRutVm99wDddLQYDkAhjNCMP9wPNx7gU6gUfeU7lcVez5HaoAzTzXbAw=\\r\\n8nMIYcVi5jisvvR9Z-pM9Ot29lFm8Qkcv3Lji3ULoPTaRUl72W5Eb5am5_-0i2PD7JTa0mk59N6=\\r\\n6dekOlvr1MnI4w6TKBotZiy9MMInhYEGHlB1t1GqHiaBB__J1_mR4bA7GffZMG5JFnH2Y-qltcR=\\r\\nEgiQQYwQwXCsWXUSZiQJ0U1ns_pqzjOL5C9nYES1NHaertOYjalmVfVNJHHFbHwHh1BUCX6Mlr1=\\r\\nnqUtBiSCxKRIBG0KAyHkPsiqKb66IvnMLpD3r-s2-PzxpeOEoG6353nuQCOqV6g9hVWbSIVqL0H=\\r\\nu0pVWNEMzRkx6n2YC0nviKZfJ-YfecJpNKe3jrAY8z9itZKXrsIPqdHmARao4AImgIVKfLG3n0w=\\r\\n7pUQEgMur6UmMZ7QVA37EzcYbz55ve1kqNR5Rso5t0cESB4yBES_HpXaGFTg7sa42p5dW8DH_s4=\\r\\n0_M3bHDWwxC86zukjDkmfLqQtQDQHfQU0umIEoCDk0PQmLiBGyqm510HwiHv_GyQA-QVrNCEes =\\r\\nclass=3D\"subheadline btn_mod3_mobile\" target=3D_blank style=3D\"background-c=\\r\\nolor:#1A73E8;; border:1px solid #1A73E8; border-radius:4px; color:#ffffff; =\\r\\ndisplay:inline-block; font-family:Google Sans, Roboto, Arial; font-size:16p=\\r\\nx; line-height:25px; text-decoration:none; padding:7px 24px 7px 24px; -webk=\\r\\nit-text-size-adjust:none; mso-hide:all; font-weight:500; text-align: center=\\r\\n; word-break:normal;direction:ltr;\" dir=3Dltr>More apps from Google</a>\\r\\n                                          </div>\\r\\n                                      </td>\\r\\n                                  </tr>\\r\\n                                <tr><td height=3D10></td></tr>\\r\\n                              </table>\\r\\n                          </td>\\r\\n                      </tr>\\r\\n                    </table>\\r\\n                  </td>\\r\\n                </tr>\\r\\n                  <tr><td height=3D50></td></tr>\\r\\n                      <tr><td border=3D0><hr width=3D516 border=3D0 bgcolor=\\r\\n=3D#F8F9FA style=3D\"margin:0; border-collapse: collapse; background-color: =\\r\\n#F8F9FA;color: #F8F9FA; height: 8px; border: none; width:516px;\"></td></tr>\\r\\n                <tr>\\r\\n                  <td>\\r\\n                    <table border=3D0 cellspacing=3D0 cellpadding=3D0 align=\\r\\n=3Dcenter width=3D100%>\\r\\n                      <tr><td height=3D40></td></tr>\\r\\n                      <tr>\\r\\n                        <td align=3Dcenter>    <img class=3Dmodule_mobile w=\\r\\nidth=3D64 height=3D64 border=3D0 src=3Dhttps://services.google.com/fh/files=\\r\\n/emails/security_logo.png alt=3DSecurity style=3D\"width: 64px; height:64px;=\\r\\n text-align: center; border: none;\">\\r\\n</td>\\r\\n                      </tr>\\r\\n                      <tr><td height=3D15></td></tr>\\r\\n                      <tr>\\r\\n                        <!--[if mso]>\\r\\n                        <td align=3D\"center\" class=3D\"device_txt space6\" st=\\r\\nyle=3D\\'color:#202124; font-family:Google Sans, \"Roboto\", Arial; font-size:1=\\r\\n8px; font-weight:normal; line-height:33px; margin:0; padding:0 80px 20px 80=\\r\\npx; text-align:center; word-break:normal;direction:ltr;\\' dir=3D\"ltr\">Contro=\\r\\nl your account</td>\\r\\n                        <![endif]-->\\r\\n                        <!--[if !mso]><!-->\\r\\n                        <td align=3Dcenter class=3D\"device_txt space6\" styl=\\r\\ne=3D\"color:#202124; font-family:Google Sans, &quot;Roboto&quot;, Arial; fon=\\r\\nt-size:18px; font-weight:normal; line-height:33px; margin:0; padding:0 80px=\\r\\n 0 80px; text-align:center; word-break:normal;direction:ltr;\" dir=3Dltr>Con=\\r\\ntrol your account</td>\\r\\n                        <!--<![endif]-->\\r\\n                      </tr>\\r\\n                      <!--[if !mso]><!-->\\r\\n                      <tr>\\r\\n                        <td height=3D15 style=3D\"line-height: 4px; font-siz=\\r\\ne: 4px;\"></td>\\r\\n                      </tr>\\r\\n                      <!--<![endif]-->\\r\\n                      <tr>\\r\\n                        <td class=3D\"subheadline space6\" align=3Dcenter sty=\\r\\nle=3D\"color:#5F6368; font-family:&quot;Roboto&quot;, OpenSans, &quot;Open S=\\r\\nans&quot;, Arial, sans-serif; font-size:16px; font-weight:normal; line-heig=\\r\\nht:24px; margin:0; padding:0 80px 0 80px; text-align:center; word-break:nor=\\r\\nmal;direction:ltr;\" dir=3Dltr>Choose what&#39;s right for you. Review and a=\\r\\ndjust your privacy and security settings any time.</td>\\r\\n                      </tr>\\r\\n\\r\\n                      <tr><td height=3D30></td></tr>\\r\\n                      <tr>\\r\\n                          <td align=3Dcenter valign=3Dtop>\\r\\n                              <table>\\r\\n                                  <tr>\\r\\n                                      <td style=3D\"text-align: center; padd=\\r\\ning: 0;\">\\r\\n                                          <div>\\r\\n                                          <!--[if mso]>\\r\\n                                                <v:roundrect xmlns:v=3D\"urn=\\r\\n:schemas-microsoft-com:vml\" xmlns:w=3D\"urn:schemas-microsoft-com:office:wor=\\r\\nd\" href=3D\"https://www.google.com/appserve/mkt/p/AFnwnKUF-FKYWnLIpgFYBXUHCs=\\r\\nKuzPbezcLlpBYDXkcfsEvYD5lJerBJXJCPLV3ERGCzF67GBvTOxubxIb_aHbOeh5nYE0Aby772R=\\r\\nTajN1X1OFNOvEZsB2iNSNw3yGuNGOk7x8vlqYuqPkOS4v8vvBUwlTq-yEpq8scePnwYPw3YPWZS=\\r\\nJEC06GzXHmym2NDM_ukI-Ouqh-gkfjIbtCZCq2c\" style=3D\"height:42px; v-text-ancho=\\r\\nr:middle; width:136;\" arcsize=3D\"10%\" strokecolor=3D\"#1A73E8\" fillcolor=3D\"=\\r\\n#1A73E8;\">\\r\\n                                                <w:anchorlock/>\\r\\n                                                <center style=3D\"color:#fff=\\r\\nfff;font-family:Google Sans, Roboto, Arial; font-size:16px; font-weight:nor=\\r\\nmal; word-break:normal;direction:ltr;\" dir=3D\"ltr\">My Account</center>\\r\\n                                                </v:roundrect>\\r\\n                                              <![endif]-->\\r\\n                                              <a href=3Dhttps://www.google.=\\r\\ncom/appserve/mkt/p/AFnwnKUF-FKYWnLIpgFYBXUHCsKuzPbezcLlpBYDXkcfsEvYD5lJerBJ=\\r\\nXJCPLV3ERGCzF67GBvTOxubxIb_aHbOeh5nYE0Aby772RTajN1X1OFNOvEZsB2iNSNw3yGuNGOk=\\r\\n7x8vlqYuqPkOS4v8vvBUwlTq-yEpq8scePnwYPw3YPWZSJEC06GzXHmym2NDM_ukI-Ouqh-gkfj=\\r\\nIbtCZCq2c class=3D\"subheadline btn_mod4_mobile\" target=3D_blank style=3D\"ba=\\r\\nckground-color:#1A73E8;; border:1px solid #1A73E8; border-radius:4px; color=\\r\\n:#ffffff; display:inline-block; font-family:Google Sans, Roboto, Arial; fon=\\r\\nt-size:16px; line-height:25px; text-decoration:none; padding:7px 24px 7px 2=\\r\\n4px; -webkit-text-size-adjust:none; mso-hide:all; font-weight:500; text-ali=\\r\\ngn: center; word-break:normal;direction:ltr;\" dir=3Dltr>My Account</a>\\r\\n                                            </div>\\r\\n                                         =20\\r\\n                                      </td>\\r\\n                                  </tr>\\r\\n                              </table>\\r\\n                          </td>\\r\\n                      </tr>\\r\\n                     =20\\r\\n                      <tr><td height=3D50></td></tr>\\r\\n                    </table>\\r\\n                  </td>\\r\\n                </tr>\\r\\n              </table>\\r\\n\\t\\t        </td>\\r\\n          </tr>\\r\\n         =20\\r\\n        =20\\r\\n          <tr><td height=3D24></td></tr>\\r\\n         =20\\r\\n          <tr>\\r\\n              <td width=3D480 style=3D\"-webkit-font-smoothing: antialiased;=\\r\\n -webkit-text-size-adjust: none; -ms-text-size-adjust: 100%; border: 2px so=\\r\\nlid #E8EAED; border-radius: 16px;\">\\r\\n                    <table border=3D0 cellspacing=3D0 cellpadding=3D0 width=\\r\\n=3D100%>\\r\\n                            <tr>\\r\\n                                <td style=3D\"font-size:0pt; line-height:0pt=\\r\\n; padding:0; margin:0;\" width=3D24></td>\\r\\n                                <!--[if mso]>\\r\\n                                <td style=3D\"margin-top:9px; padding: 40px =\\r\\n25px 29px 20px;\" valign=3D\"top\">    <img class=3D\"fmd_mobile\" width=3D\"24\" =\\r\\nheight=3D\"18\" border=3D\"0\" src=3D\"https://services.google.com/fh/files/emai=\\r\\nls/vibration_outline.png\" alt=3D\"Find My Device\" style=3D\"width: 24px; heig=\\r\\nht:18px; text-align: center; border: none; font-size:3px;\">\\r\\n</td>\\r\\n                                <![endif]-->\\r\\n                                <!--[if !mso]><!-->\\r\\n                                <td style=3D\"padding: 55px 10px 40px 20px;\"=\\r\\n valign=3Dtop>    <img class=3Dfmd_mobile width=3D24 height=3D18 border=3D0=\\r\\n src=3Dhttps://services.google.com/fh/files/emails/vibration_outline.png al=\\r\\nt=3D\"Find My Device\" style=3D\"width: 24px; height:18px; text-align: center;=\\r\\n border: none; font-size:3px;\">\\r\\n</td>\\r\\n                                <!--<![endif]-->\\r\\n\\r\\n                                <td valign=3Dtop>\\r\\n                                  <!--[if mso]>\\r\\n                                  <div class=3D\"device_txt\" style=3D\"margin=\\r\\n-bottom:15px; padding-left: 20px; color:#202124; font-family:Google Sans, R=\\r\\noboto, Arial; font-size:18px; line-height:28px; text-align:left; padding-to=\\r\\np:30px; padding-bottom:12px; word-break:normal;direction:ltr;\" dir=3D\"ltr\" =\\r\\nvalign=3D\"top\">Find your phone</div>\\r\\n                                  <![endif]-->\\r\\n                                  <!--[if !mso]><!-->\\r\\n                                  <div class=3Ddevice_txt style=3D\"padding-=\\r\\nleft: 20px; color:#202124; font-family:Google Sans, Roboto, Arial; font-siz=\\r\\ne:18px; line-height:28px; text-align:left; padding-top:45px; padding-bottom=\\r\\n:12px; word-break:normal;direction:ltr;\" dir=3Dltr valign=3Dtop>Find your p=\\r\\nhone</div>\\r\\n                                  <!--<![endif]-->\\r\\n                                 =20\\r\\n                                  <!--[if mso]>\\r\\n                                  <div class=3D\"subheadline space7\" style=\\r\\n=3D\"padding-left: 20px; padding-right: 20px; color:#80868B; font-family:Rob=\\r\\noto, OpenSans, Open Sans, Arial, sans-serif; font-weight: normal; font-size=\\r\\n:16px; line-height:24px; text-align:left; padding-bottom:24px; word-break:n=\\r\\normal;direction:ltr;\" dir=3D\"ltr\" valign=3D\"top\"><a href=3D\"https://www.goo=\\r\\ngle.com/appserve/mkt/p/AFnwnKWMxeIPPA_stQcvfswmStjnQ9JNr54zylhPZ9nJlrfVt7gQ=\\r\\n2MXdakGNOkWG_a1w9HrcznA2m_kMqdhquDrsOcRvaX1q4Z37_js2qG7Y4VYKehqVdKPT-9jUCVA=\\r\\nqRAk_IVJmIerXeilotwoK9KJKZilEwdud4VNERIwzK4G7GBGHAMAJWJFbDE89uRecvlBRHYksJJ=\\r\\nEt0Q\" target=3D\"_blank\" style=3D\"text-decoration:none; color:#4285F4;\">Pinp=\\r\\noint your phone\\'s location</a> and secure it with Find My Device.</div>\\r\\n                                  <![endif]-->\\r\\n                                  <!--[if !mso]><!-->\\r\\n                                  <div class=3D\"subheadline space7\" style=\\r\\n=3D\"padding-left: 20px; padding-right: 20px; color:#80868B; font-family:Rob=\\r\\noto, OpenSans, Open Sans, Arial, sans-serif; font-weight: normal; font-size=\\r\\n:16px; line-height:24px; text-align:left; padding-bottom:35px; word-break:n=\\r\\normal;direction:ltr;\" dir=3Dltr valign=3Dtop><a href=3Dhttps://www.google.c=\\r\\nom/appserve/mkt/p/AFnwnKWMxeIPPA_stQcvfswmStjnQ9JNr54zylhPZ9nJlrfVt7gQ2MXda=\\r\\nkGNOkWG_a1w9HrcznA2m_kMqdhquDrsOcRvaX1q4Z37_js2qG7Y4VYKehqVdKPT-9jUCVAqRAk_=\\r\\nIVJmIerXeilotwoK9KJKZilEwdud4VNERIwzK4G7GBGHAMAJWJFbDE89uRecvlBRHYksJJEt0Q =\\r\\ntarget=3D_blank style=3D\"text-decoration:none; color:#4285F4;\">Pinpoint you=\\r\\nr phone&#39;s location</a> and secure it with Find My Device.</div>\\r\\n                                  <!--<![endif]-->\\r\\n                                </td>\\r\\n                                <td style=3D\"font-size:0pt; line-height:0pt=\\r\\n; padding:0; margin:0;\" width=3D24></td>\\r\\n                            </tr>\\r\\n                      =20\\r\\n                            <tr>\\r\\n                                <td style=3D\"font-size:0pt; line-height:0pt=\\r\\n; padding:0; margin:0;\" width=3D24></td>\\r\\n                                <!--[if mso]>\\r\\n                                <td colspan=3D\"2\" width=3D\"468\" align=3D\"to=\\r\\np\" style=3D\"width:468px;\"><hr width=3D\"468\" style=3D\"background-color: #E8E=\\r\\nAED;color: #E8EAED; height: 2px; border: none;font-size:0pt; line-height:0p=\\r\\nt; padding:0; margin:0; width:468px;\"></td>\\r\\n                                <![endif]-->\\r\\n                                  <!--[if !mso]><!-->\\r\\n                                  <td colspan=3D2 align=3Dtop><hr width=3D4=\\r\\n68 style=3D\"background-color: #E8EAED;color: #E8EAED; height: 2px; border: =\\r\\nnone;font-size:0pt; line-height:0pt; padding:0; margin:0;\"></td>\\r\\n                                  <!--<![endif]-->\\r\\n                                <td style=3D\"font-size:0pt; line-height:0pt=\\r\\n; padding:0; margin:0;\" width=3D24></td>\\r\\n                            </tr>\\r\\n                            <tr>\\r\\n                                <td style=3D\"font-size:0pt; line-height:0pt=\\r\\n; padding:0; margin:0;\" width=3D24></td>\\r\\n                                <!--[if mso]>\\r\\n                                <td style=3D\"margin-bottom:67px; padding: 2=\\r\\n1px 10px 35px 20px;\">    <img class=3D\"fa_mobile\" width=3D\"24\" height=3D\"24=\\r\\n\" border=3D\"0\" src=3D\"https://services.google.com/fh/files/emails/help_outl=\\r\\nine.png\" alt=3D\"Find Answers\" style=3D\"width: 24px; height:24px; text-align=\\r\\n: center; border: none; font-size:3px;\">\\r\\n</td>\\r\\n                                <![endif]-->\\r\\n                                <!--[if !mso]><!-->\\r\\n                                <td style=3D\"padding: 43px 10px 40px 20px;\"=\\r\\n valign=3Dtop>    <img class=3Dfa_mobile width=3D24 height=3D24 border=3D0 =\\r\\nsrc=3Dhttps://services.google.com/fh/files/emails/help_outline.png alt=3D\"F=\\r\\nind Answers\" style=3D\"width: 24px; height:24px; text-align: center; border:=\\r\\n none; font-size:3px;\">\\r\\n</td>\\r\\n                                <!--<![endif]-->\\r\\n                               =20\\r\\n                                <td valign=3Dtop>\\r\\n                                    <!--[if mso]>\\r\\n                                    <div class=3D\"device_txt\" style=3D\"marg=\\r\\nin-bottom:15px; padding-left: 20px; color:#202124; font-family:Google Sans,=\\r\\n Roboto, Arial; font-size:18px; line-height:28px; text-align:left; padding-=\\r\\ntop:18px; padding-bottom:12px; word-break:normal;direction:ltr;\" dir=3D\"ltr=\\r\\n\" valign=3D\"top\">Find answers</div>\\r\\n                                    <![endif]-->\\r\\n                                    <!--[if !mso]><!-->\\r\\n                                    <div class=3Ddevice_txt style=3D\"paddin=\\r\\ng-left: 20px; color:#202124; font-family:Google Sans, Roboto, Arial; font-s=\\r\\nize:18px; line-height:28px; text-align:left; padding-top:35px; padding-bott=\\r\\nom:12px; word-break:normal;direction:ltr;\" dir=3Dltr valign=3Dtop>Find answ=\\r\\ners</div>\\r\\n                                    <!--<![endif]-->\\r\\n                                 =20\\r\\n                                    <!--[if mso]>\\r\\n                                    <div class=3D\"subheadline space7\" style=\\r\\n=3D\"margin-bottom:20px; padding-left: 20px; padding-right: 20px; color:#808=\\r\\n68B; font-family:Roboto, OpenSans, Open Sans, Arial, sans-serif; font-weigh=\\r\\nt: normal; font-size:16px; line-height:24px; text-align:left; padding-botto=\\r\\nm:45px; word-break:normal;direction:ltr;\" dir=3D\"ltr\" valign=3D\"top\">Visit =\\r\\nthe <a href=3D\"https://www.google.com/appserve/mkt/p/AFnwnKWrgq-xyqeHwHMEG7=\\r\\n1P8Ahl4zIobkjYIWM0RX-bvihPBiv003hP7MtbegZDCkiYt7Fzn90i2hLMr0M1yj8uAILAOND2E=\\r\\nr3MQwiMrIrUnubye4tk0mBGHUMe-Hg_rwsO4j00fwH7ATzNUd_iWK5bm-K751jgFH05INdIP2o6=\\r\\npphHXWbJriZNLrLkZ9VaTvYsy_aWBLYy1w\" target=3D\"_blank\" style=3D\"text-decorat=\\r\\nion:none; color:#4285F4;\">Help Center</a> to learn all about your new Googl=\\r\\ne Account.</div>\\r\\n                                    <![endif]-->\\r\\n                                    <!--[if !mso]><!-->\\r\\n                                    <div class=3D\"subheadline space7\" style=\\r\\n=3D\"padding-left: 20px; padding-right: 20px; color:#80868B; font-family:Rob=\\r\\noto, OpenSans, Open Sans, Arial, sans-serif; font-weight: normal; font-size=\\r\\n:16px; line-height:24px; text-align:left; padding-bottom:50px; word-break:n=\\r\\normal;direction:ltr;\" dir=3Dltr valign=3Dtop>Visit the <a href=3Dhttps://ww=\\r\\nw.google.com/appserve/mkt/p/AFnwnKWrgq-xyqeHwHMEG71P8Ahl4zIobkjYIWM0RX-bvih=\\r\\nPBiv003hP7MtbegZDCkiYt7Fzn90i2hLMr0M1yj8uAILAOND2Er3MQwiMrIrUnubye4tk0mBGHU=\\r\\nMe-Hg_rwsO4j00fwH7ATzNUd_iWK5bm-K751jgFH05INdIP2o6pphHXWbJriZNLrLkZ9VaTvYsy=\\r\\n_aWBLYy1w target=3D_blank style=3D\"text-decoration:none; color:#4285F4;\">He=\\r\\nlp Center</a> to learn all about your new Google Account.</div>\\r\\n                                    <!--<![endif]-->\\r\\n                                </td>\\r\\n                                <td style=3D\"font-size:0pt; line-height:0pt=\\r\\n; padding:0; margin:0;\" width=3D24></td>\\r\\n                            </tr>\\r\\n                    </table>\\r\\n              </td>\\r\\n          </tr>\\r\\n\\r\\n         =20\\r\\n                  <tr>\\r\\n                      <td style=3D\"-webkit-font-smoothing: antialiased; -we=\\r\\nbkit-text-size-adjust: none; -ms-text-size-adjust: 100%;\">\\r\\n                        <table border=3D0 cellspacing=3D0 cellpadding=3D0 a=\\r\\nlign=3Dcenter width=3D100%>\\r\\n                          <tr><td height=3D32></td></tr>\\r\\n                          <tr>\\r\\n                            <td class=3Dspace6 align=3Dcenter style=3D\"colo=\\r\\nr:#5F6368; font-family:&quot;Roboto&quot;, OpenSans, &quot;Open Sans&quot;,=\\r\\n Arial, sans-serif; font-size:12px; line-height:17px; margin:0; padding:0 8=\\r\\n0px 0 80px; text-align:center; word-break:normal;direction:ltr;\" dir=3Dltr>=\\r\\nWe hope you enjoy your new Android device,</td>\\r\\n                          </tr>\\r\\n                          <tr>\\r\\n                            <td class=3Dspace6 align=3Dcenter style=3D\"colo=\\r\\nr:#5F6368; font-family:&quot;Roboto&quot;, OpenSans, &quot;Open Sans&quot;,=\\r\\n Arial, sans-serif; font-size:12px; line-height:17px; margin:0; padding:0 8=\\r\\n0px 0 80px; text-align:center; word-break:normal;direction:ltr;\" dir=3Dltr>=\\r\\nGoogle Community Team</td>\\r\\n                          </tr>\\r\\n                          <tr><td height=3D30></td></tr>\\r\\n                          <tr>\\r\\n                            <td width=3D134 height=3D46 align=3Dcenter styl=\\r\\ne=3D\"font-size:8px; word-break:normal;direction:ltr;\" dir=3Dltr>    <img cl=\\r\\nass=3Dgoogle_mobile width=3D82 height=3D26 border=3D0 src=3Dhttps://service=\\r\\ns.google.com/fh/files/emails/google_logo2.png alt=3D\"Google Logo\" style=3D\"=\\r\\nwidth: 82px; height:26px; text-align: center; border: none;\">\\r\\n</td>\\r\\n                          </tr>\\r\\n                          <tr><td height=3D19></td></tr>\\r\\n                          <tr>\\r\\n                            <td class=3Dspace6 align=3Dcenter style=3D\"colo=\\r\\nr:#5F6368; font-family:&quot;Roboto&quot;, OpenSans, &quot;Open Sans&quot;,=\\r\\n Arial, sans-serif; font-size:12px; line-height:17px; margin:0; padding:0 8=\\r\\n0px 0 80px; text-align:center; word-break:normal;direction:ltr;\" dir=3Dltr>=\\r\\nReplies to this email aren&#39;t monitored. If you have a question about yo=\\r\\nur new account, the Help Center likely has the answer you&#39;re looking fo=\\r\\nr.</td>\\r\\n                          </tr>\\r\\n                          <tr><td height=3D19></td></tr>\\r\\n                          <tr>\\r\\n                            <td class=3Dspace6 valign=3Dmiddle style=3D\"col=\\r\\nor:#777; font-family:&quot;Roboto&quot;, OpenSans, &quot;Open Sans&quot;, A=\\r\\nrial, sans-serif; font-size:10px; line-height:14px; margin:0; padding:0 80p=\\r\\nx 0 80px; text-align:center\" align=3Dcenter>Google Asia Pacific Pte. Ltd.,<=\\r\\nbr>70 Pasir Panjang Road, #03-71,<br>Mapletree Business City, Singapore 117=\\r\\n371<br><br><span style=3Dword-break:normal;direction:ltr; dir=3Dltr>This em=\\r\\nail was sent to you because you created a Google account.</span></td>\\r\\n                          </tr>\\r\\n                        </table>\\r\\n                      </td>\\r\\n                  </tr>\\r\\n                  <tr><td height=3D18></td></tr>\\r\\n        </table>\\r\\n        <div style=3D\"display:none; white-space:nowrap; font:15px courier; =\\r\\nline-height:0;\">\\r\\n        =C2=A0 =C2=A0 =C2=A0 =C2=A0 =C2=A0 =C2=A0=C2=A0 =C2=A0 =C2=A0 =C2=\\r\\n=A0 =C2=A0 =C2=A0 =C2=A0 =C2=A0 =C2=A0\\r\\n        =C2=A0 =C2=A0 =C2=A0 =C2=A0 =C2=A0 =C2=A0 =C2=A0 =C2=A0 =C2=A0 =C2=\\r\\n=A0 =C2=A0 =C2=A0 =C2=A0 =C2=A0 =C2=A0\\r\\n        </div>\\r\\n      </center>\\r\\n    <img height=3D1 width=3D3 src=3Dhttps://www.google.com/appserve/mkt/img=\\r\\n/AFnwnKWhGbhkGVHWMoAT5wXI_0ENsg4J3TLp_MtT_MFeREGrr9M.gif></body>\\r\\n  </html>\\r\\n\\r\\n--0000000000008ad8f50598e552cb--\\r\\n'),\n",
       " b')']"
      ]
     },
     "execution_count": 17,
     "metadata": {},
     "output_type": "execute_result"
    }
   ],
   "source": [
    "email_data"
   ]
  },
  {
   "cell_type": "code",
   "execution_count": 18,
   "metadata": {},
   "outputs": [],
   "source": [
    "raw_email= email_data[0][1].decode(\"utf-8\")"
   ]
  },
  {
   "cell_type": "code",
   "execution_count": 19,
   "metadata": {},
   "outputs": [],
   "source": [
    "email_msg=email.message_from_string(raw_email)"
   ]
  },
  {
   "cell_type": "code",
   "execution_count": 20,
   "metadata": {},
   "outputs": [
    {
     "data": {
      "text/plain": [
       "<email.message.Message at 0x21c329bdbe0>"
      ]
     },
     "execution_count": 20,
     "metadata": {},
     "output_type": "execute_result"
    }
   ],
   "source": [
    "email_msg"
   ]
  },
  {
   "cell_type": "code",
   "execution_count": 21,
   "metadata": {},
   "outputs": [
    {
     "data": {
      "text/plain": [
       "'xabc0734@gmail.com'"
      ]
     },
     "execution_count": 21,
     "metadata": {},
     "output_type": "execute_result"
    }
   ],
   "source": [
    "email_msg[\"To\"] #recipient mail Id"
   ]
  },
  {
   "cell_type": "code",
   "execution_count": 22,
   "metadata": {},
   "outputs": [
    {
     "data": {
      "text/plain": [
       "'Google Community Team <googlecommunityteam-noreply@google.com>'"
      ]
     },
     "execution_count": 22,
     "metadata": {},
     "output_type": "execute_result"
    }
   ],
   "source": [
    "email_msg[\"From\"] #Sender mail Id"
   ]
  },
  {
   "cell_type": "code",
   "execution_count": 23,
   "metadata": {},
   "outputs": [
    {
     "data": {
      "text/plain": [
       "'Finish setting up your new Google Account'"
      ]
     },
     "execution_count": 23,
     "metadata": {},
     "output_type": "execute_result"
    }
   ],
   "source": [
    "email_msg[\"Subject\"] #Subject line of the mail"
   ]
  },
  {
   "cell_type": "code",
   "execution_count": 25,
   "metadata": {},
   "outputs": [
    {
     "data": {
      "text/plain": [
       "[<email.message.Message at 0x21c329bddd8>,\n",
       " <email.message.Message at 0x21c329bd278>]"
      ]
     },
     "execution_count": 25,
     "metadata": {},
     "output_type": "execute_result"
    }
   ],
   "source": [
    "email_msg.get_payload()"
   ]
  }
 ],
 "metadata": {
  "kernelspec": {
   "display_name": "Python 3",
   "language": "python",
   "name": "python3"
  },
  "language_info": {
   "codemirror_mode": {
    "name": "ipython",
    "version": 3
   },
   "file_extension": ".py",
   "mimetype": "text/x-python",
   "name": "python",
   "nbconvert_exporter": "python",
   "pygments_lexer": "ipython3",
   "version": "3.7.3"
  }
 },
 "nbformat": 4,
 "nbformat_minor": 2
}
